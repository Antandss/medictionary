{
 "cells": [
  {
   "cell_type": "code",
   "execution_count": 12,
   "metadata": {},
   "outputs": [
    {
     "name": "stdout",
     "output_type": "stream",
     "text": [
      "Current Working Directory: /Users/anthonandersson/software/medictionary/data\n"
     ]
    }
   ],
   "source": [
    "import sqlite3\n",
    "import pandas as pd\n",
    "import matplotlib.pyplot as plt\n",
    "import seaborn as sns\n",
    "import os\n"
   ]
  },
  {
   "cell_type": "code",
   "execution_count": 14,
   "metadata": {},
   "outputs": [
    {
     "ename": "OperationalError",
     "evalue": "unable to open database file",
     "output_type": "error",
     "traceback": [
      "\u001b[0;31m---------------------------------------------------------------------------\u001b[0m",
      "\u001b[0;31mOperationalError\u001b[0m                          Traceback (most recent call last)",
      "Cell \u001b[0;32mIn[14], line 8\u001b[0m\n\u001b[1;32m      5\u001b[0m db_path \u001b[39m=\u001b[39m \u001b[39m'\u001b[39m\u001b[39m/medictionary/data/fictive_patients.db\u001b[39m\u001b[39m'\u001b[39m\n\u001b[1;32m      7\u001b[0m \u001b[39m# Connect to the SQLite database\u001b[39;00m\n\u001b[0;32m----> 8\u001b[0m conn \u001b[39m=\u001b[39m sqlite3\u001b[39m.\u001b[39;49mconnect(db_path)\n\u001b[1;32m     11\u001b[0m \u001b[39m# Read data into a pandas DataFrame\u001b[39;00m\n\u001b[1;32m     12\u001b[0m query \u001b[39m=\u001b[39m \u001b[39m'\u001b[39m\u001b[39mSELECT * FROM patients\u001b[39m\u001b[39m'\u001b[39m\n",
      "\u001b[0;31mOperationalError\u001b[0m: unable to open database file"
     ]
    }
   ],
   "source": [
    "\n",
    "\n",
    "# Get the absolute path of the notebook's directory\n",
    "notebook_dir = os.getcwd()\n",
    "\n",
    "# Construct the absolute path to the database file\n",
    "db_path = '/medictionary/data/fictive_patients.db'\n",
    "\n",
    "# Connect to the SQLite database\n",
    "conn = sqlite3.connect(db_path)\n",
    "\n",
    "\n",
    "# Read data into a pandas DataFrame\n",
    "query = 'SELECT * FROM patients'\n",
    "df = pd.read_sql_query(query, conn)\n",
    "\n",
    "# Close the database connection\n",
    "conn.close()"
   ]
  },
  {
   "cell_type": "code",
   "execution_count": null,
   "metadata": {},
   "outputs": [],
   "source": [
    "\n",
    "# Display basic information about the dataset\n",
    "print(\"Basic Information about the Dataset:\")\n",
    "print(df.info())\n",
    "\n",
    "# Display summary statistics for numerical columns\n",
    "print(\"\\nSummary Statistics:\")\n",
    "print(df.describe())\n",
    "\n",
    "# Count of patients per condition\n",
    "condition_counts = df['Condition'].value_counts()"
   ]
  },
  {
   "cell_type": "code",
   "execution_count": null,
   "metadata": {},
   "outputs": [],
   "source": [
    "# Plot a bar chart for the count of patients per condition\n",
    "plt.figure(figsize=(12, 6))\n",
    "sns.barplot(x=condition_counts.index, y=condition_counts.values, palette=\"viridis\")\n",
    "plt.title('Count of Patients per Condition')\n",
    "plt.xlabel('Condition')\n",
    "plt.ylabel('Count')\n",
    "plt.xticks(rotation=45, ha='right')\n",
    "plt.show()"
   ]
  },
  {
   "cell_type": "code",
   "execution_count": null,
   "metadata": {},
   "outputs": [],
   "source": [
    "# Box plot of age distribution per condition\n",
    "plt.figure(figsize=(12, 6))\n",
    "sns.boxplot(x='Condition', y='Age', data=df, palette=\"muted\")\n",
    "plt.title('Age Distribution per Condition')\n",
    "plt.xlabel('Condition')\n",
    "plt.ylabel('Age')\n",
    "plt.xticks(rotation=45, ha='right')\n",
    "plt.show()"
   ]
  },
  {
   "cell_type": "code",
   "execution_count": null,
   "metadata": {},
   "outputs": [],
   "source": [
    "# Pair plot for numerical variables\n",
    "sns.pairplot(df, hue='Condition', palette='Set2')\n",
    "plt.suptitle('Pair Plot of Numerical Variables', y=1.02)\n",
    "plt.show()"
   ]
  }
 ],
 "metadata": {
  "kernelspec": {
   "display_name": "Python 3",
   "language": "python",
   "name": "python3"
  },
  "language_info": {
   "codemirror_mode": {
    "name": "ipython",
    "version": 3
   },
   "file_extension": ".py",
   "mimetype": "text/x-python",
   "name": "python",
   "nbconvert_exporter": "python",
   "pygments_lexer": "ipython3",
   "version": "3.11.0"
  },
  "orig_nbformat": 4,
  "vscode": {
   "interpreter": {
    "hash": "aee8b7b246df8f9039afb4144a1f6fd8d2ca17a180786b69acc140d282b71a49"
   }
  }
 },
 "nbformat": 4,
 "nbformat_minor": 2
}
